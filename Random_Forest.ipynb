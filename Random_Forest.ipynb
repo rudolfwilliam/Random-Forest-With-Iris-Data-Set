{
 "cells": [
  {
   "cell_type": "markdown",
   "metadata": {},
   "source": [
    "# Random Forest on Iris flower data set\n",
    "Please check out my other project on Decision Trees first to understand the basics of this notebook. In this example we will create a total of three decision trees in order to receive a lower error rate than with just one."
   ]
  },
  {
   "cell_type": "code",
   "execution_count": 1,
   "metadata": {
    "collapsed": true
   },
   "outputs": [],
   "source": [
    "# no need to use the \"actual\" labels\n",
    "header = [\"a\", \"b\", \"c\", \"d\", \"e\", \"f\", \"g\", \"h\"]\n",
    "\n",
    "# the probability of choosing the wrong answer randomly\n",
    "def gini_impurity(data):\n",
    "    classes = {}\n",
    "    for instance in data:\n",
    "        if instance[-1] not in classes:\n",
    "            classes.update({instance[-1] : 1})\n",
    "        else:\n",
    "            classes.update({instance[-1] : (classes.get(instance[-1]) + 1)})\n",
    "    \n",
    "    impurity = 0\n",
    "    if len(classes) == 1:\n",
    "        return 0\n",
    "    for i in classes:\n",
    "        prob = len(classes) / classes.get(i)\n",
    "        impurity += prob * (1 - prob)\n",
    "    \n",
    "    return impurity\n",
    "\n",
    "# find out how much the \"uncertainty\" can be reduced by a split\n",
    "def info_gain(left, right, current_uncertainty):\n",
    "    p = float(len(left)) / (len(left) + len(right))\n",
    "    return current_uncertainty - p * gini_impurity(left) - (1 - p) * gini_impurity(right)\n",
    "\n",
    "class Question:\n",
    "    \n",
    "    def __init__(self, index, attribute):\n",
    "        self.index = index\n",
    "        self.attribute = attribute   \n",
    "    \n",
    "    # all features are numerical\n",
    "    def decide(self, instance):\n",
    "            return (instance[self.index] > self.attribute)\n",
    "    \n",
    "    # split data set into a wrong list (left) and a right list (right)\n",
    "    def separate(self, data):\n",
    "        right = []\n",
    "        left = []\n",
    "        for instance in data:\n",
    "            if self.decide(instance):\n",
    "                right.append(instance)\n",
    "            else:\n",
    "                left.append(instance)\n",
    "        \n",
    "        return left, right\n",
    "\n",
    "class Decision_Tree:\n",
    "    def __init__(self, question, left, right):\n",
    "        self.question = question\n",
    "        self.left = left\n",
    "        self.right = right\n",
    "    \n",
    "    def predict(self, instance):\n",
    "        if self.question.decide(instance):\n",
    "            return self.right.predict(instance)\n",
    "        else:\n",
    "            return self.left.predict(instance)\n",
    "        \n",
    "class Leaf(Decision_Tree):\n",
    "    def __init__(self, label):\n",
    "        self.label = label\n",
    "    def predict(self, instance):\n",
    "        # the guess has to be made here\n",
    "        return self.label\n",
    "    \n",
    "def create_decision_tree(data):\n",
    "    if gini_impurity(data) == 0:\n",
    "        return Leaf(data[0][-1])\n",
    "    questions = []\n",
    "    # collect all possible questions\n",
    "    for instance in data:\n",
    "        for feature in header[:-1]:\n",
    "            questions.append(Question(header.index(feature), instance[header.index(feature)]))\n",
    "    best_information_gain = 0\n",
    "    current_impurity = gini_impurity(data)\n",
    "    best_question = None\n",
    "    # finding out which question does best on increasing the information gain\n",
    "    for question in questions:\n",
    "        left, right = question.separate(data)\n",
    "        gain = info_gain(left, right, current_impurity)\n",
    "        if gain > best_information_gain:\n",
    "            best_information_gain = gain\n",
    "            best_question = question\n",
    "    \n",
    "    # if no question can increase the information gain\n",
    "    if best_question == None:\n",
    "        return Leaf(data[0][-1])\n",
    "    left, right = best_question.separate(data)\n",
    "    \n",
    "    return Decision_Tree(best_question, create_decision_tree(left), create_decision_tree(right)) "
   ]
  },
  {
   "cell_type": "code",
   "execution_count": 2,
   "metadata": {},
   "outputs": [
    {
     "name": "stdout",
     "output_type": "stream",
     "text": [
      "26 27 27\n"
     ]
    }
   ],
   "source": [
    "import csv\n",
    "from random import shuffle\n",
    "\n",
    "# classical iris flower data set\n",
    "with open('IRIS.csv') as csvfile:\n",
    "     data_set = list(csv.reader(csvfile))\n",
    "        \n",
    "shuffle(data_set)\n",
    "cut = int(0.8 * len(data_set))\n",
    "training_data = data_set[:cut]\n",
    "testing_data = data_set[cut:]\n",
    "\n",
    "# split up training data into about three even parts\n",
    "split = int(len(training_data) / 3)\n",
    "training_1 = training_data[: split]\n",
    "training_2 = training_data[split : 2 * split + 1]\n",
    "training_3 = training_data[2 * split + 1:]\n",
    "\n",
    "print(len(training_1), len(training_2), len(training_3))"
   ]
  },
  {
   "cell_type": "code",
   "execution_count": 3,
   "metadata": {
    "collapsed": true
   },
   "outputs": [],
   "source": [
    "class Random_Forest:\n",
    "    \n",
    "    def __init__(self, trees):\n",
    "        self.trees = trees\n",
    "    \n",
    "    def most_common(self, lst):\n",
    "        return max(set(lst), key=lst.count)\n",
    "    \n",
    "    def predict(self, instance):\n",
    "        predictions = []\n",
    "        for tree in self.trees:\n",
    "            predictions.append(tree.predict(instance))\n",
    "        \n",
    "        # use the predicition that is being predicted by the majority\n",
    "        return self.most_common(predictions)        "
   ]
  },
  {
   "cell_type": "code",
   "execution_count": 4,
   "metadata": {},
   "outputs": [
    {
     "name": "stdout",
     "output_type": "stream",
     "text": [
      "prediction: virginica, actual: virginica\n",
      "prediction: virginica, actual: virginica\n",
      "prediction: versicolor, actual: versicolor\n",
      "prediction: versicolor, actual: versicolor\n",
      "prediction: versicolor, actual: versicolor\n",
      "prediction: virginica, actual: virginica\n",
      "prediction: versicolor, actual: versicolor\n",
      "prediction: setosa, actual: setosa\n",
      "prediction: setosa, actual: setosa\n",
      "prediction: virginica, actual: virginica\n",
      "prediction: versicolor, actual: versicolor\n",
      "prediction: virginica, actual: virginica\n",
      "prediction: virginica, actual: virginica\n",
      "prediction: versicolor, actual: versicolor\n",
      "prediction: virginica, actual: virginica\n",
      "prediction: versicolor, actual: versicolor\n",
      "prediction: setosa, actual: setosa\n",
      "prediction: virginica, actual: virginica\n",
      "prediction: virginica, actual: virginica\n",
      "prediction: versicolor, actual: virginica\n",
      "\n",
      "The error rate is: 0.05\n"
     ]
    }
   ],
   "source": [
    "# create trees\n",
    "tree_1 = create_decision_tree(training_1)\n",
    "tree_2 = create_decision_tree(training_2)\n",
    "tree_3 = create_decision_tree(training_3)\n",
    "\n",
    "random_forest = Random_Forest([tree_1, tree_2, tree_3])\n",
    "\n",
    "# test the random_forest\n",
    "falses = 0\n",
    "for instance in testing_data:\n",
    "    print(\"prediction: \" + random_forest.predict(instance[:-1]) + \", actual: \" + instance[-1])\n",
    "    if random_forest.predict(instance[:-1]) != instance[-1]:\n",
    "        falses += 1\n",
    "\n",
    "error_rate = falses / len(testing_data)\n",
    "print(\"\\nThe error rate is:\", error_rate)"
   ]
  }
 ],
 "metadata": {
  "kernelspec": {
   "display_name": "Python 3",
   "language": "python",
   "name": "python3"
  },
  "language_info": {
   "codemirror_mode": {
    "name": "ipython",
    "version": 3
   },
   "file_extension": ".py",
   "mimetype": "text/x-python",
   "name": "python",
   "nbconvert_exporter": "python",
   "pygments_lexer": "ipython3",
   "version": "3.6.3"
  }
 },
 "nbformat": 4,
 "nbformat_minor": 2
}
